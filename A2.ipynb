{
  "cells": [
    {
      "cell_type": "code",
      "execution_count": 98,
      "metadata": {
        "id": "7Q96nZyy9ktw"
      },
      "outputs": [],
      "source": [
        "import pandas as pd\n",
        "import requests\n",
        "import base64\n",
        "from PIL import Image\n",
        "from io import BytesIO\n",
        "from PIL import ImageEnhance\n",
        "import matplotlib.pyplot as plt\n",
        "import numpy as np"
      ]
    },
    {
      "cell_type": "code",
      "execution_count": 99,
      "metadata": {
        "id": "T0TO2_aHE2zD"
      },
      "outputs": [],
      "source": [
        "file_path = '/content/A2_Data - A2_Data.csv'\n",
        "column_names = ['Product ID.', 'Image', 'Review text']\n",
        "df = pd.read_csv(file_path,names=column_names)\n",
        "df = df.drop(0)\n",
        "df = df.reset_index(drop=True)\n"
      ]
    },
    {
      "cell_type": "code",
      "execution_count": 4,
      "metadata": {
        "colab": {
          "base_uri": "https://localhost:8080/",
          "height": 424
        },
        "id": "GI-iVgnPE5TO",
        "outputId": "05bdfc96-dad0-4d14-b8c0-c4b7e1e3084d"
      },
      "outputs": [
        {
          "data": {
            "application/vnd.google.colaboratory.intrinsic+json": {
              "summary": "{\n  \"name\": \"df\",\n  \"rows\": 1000,\n  \"fields\": [\n    {\n      \"column\": \"Product ID.\",\n      \"properties\": {\n        \"dtype\": \"number\",\n        \"std\": 1109.3361783844753,\n        \"min\": 4.0,\n        \"max\": 3888.0,\n        \"num_unique_values\": 1000,\n        \"samples\": [\n          1023.0,\n          2801.0,\n          244.0\n        ],\n        \"semantic_type\": \"\",\n        \"description\": \"\"\n      }\n    },\n    {\n      \"column\": \"Image\",\n      \"properties\": {\n        \"dtype\": \"string\",\n        \"num_unique_values\": 990,\n        \"samples\": [\n          \"['https://images-na.ssl-images-amazon.com/images/I/71vNRf0A+YL._SY88.jpg']\",\n          \"['https://images-na.ssl-images-amazon.com/images/I/61zFPF6hgrL._SY88.jpg']\",\n          \"['https://images-na.ssl-images-amazon.com/images/I/71aNT7H6QxL._SY88.jpg']\"\n        ],\n        \"semantic_type\": \"\",\n        \"description\": \"\"\n      }\n    },\n    {\n      \"column\": \"Review text\",\n      \"properties\": {\n        \"dtype\": \"string\",\n        \"num_unique_values\": 996,\n        \"samples\": [\n          \"I like this pedal very much so far. My favorite pedal was a Joyo and it didn't last long. It's in my junk pile. I hate the for the money thing. This delay pedal does a lot more than most one trick ponys out there. Money when you get into Chinese stuff is a gamble, I hope I get some time out of this Joyo because it just that great.\",\n          \"These are alot better than the Mahalo felt picks I've been using on my ukuleles. The Mahalos are soft, fat and flat, these are stiff, thinner and tapered, meaning they're easier to hold and play with and I get sharper sound. The 12 I got should last for quite some time, the Mahalos are showing more wear. Probably everyone should get some felt picks, very useful and alot of fun; these are really good ones.\",\n          \"Best strap lock system out there! -\"\n        ],\n        \"semantic_type\": \"\",\n        \"description\": \"\"\n      }\n    }\n  ]\n}",
              "type": "dataframe",
              "variable_name": "df"
            },
            "text/html": [
              "\n",
              "  <div id=\"df-bde673bc-1060-4796-8d5f-6fffc4d2a035\" class=\"colab-df-container\">\n",
              "    <div>\n",
              "<style scoped>\n",
              "    .dataframe tbody tr th:only-of-type {\n",
              "        vertical-align: middle;\n",
              "    }\n",
              "\n",
              "    .dataframe tbody tr th {\n",
              "        vertical-align: top;\n",
              "    }\n",
              "\n",
              "    .dataframe thead th {\n",
              "        text-align: right;\n",
              "    }\n",
              "</style>\n",
              "<table border=\"1\" class=\"dataframe\">\n",
              "  <thead>\n",
              "    <tr style=\"text-align: right;\">\n",
              "      <th></th>\n",
              "      <th>Product ID.</th>\n",
              "      <th>Image</th>\n",
              "      <th>Review text</th>\n",
              "    </tr>\n",
              "  </thead>\n",
              "  <tbody>\n",
              "    <tr>\n",
              "      <th>0</th>\n",
              "      <td>3452.0</td>\n",
              "      <td>['https://images-na.ssl-images-amazon.com/imag...</td>\n",
              "      <td>Loving these vintage springs on my vintage str...</td>\n",
              "    </tr>\n",
              "    <tr>\n",
              "      <th>1</th>\n",
              "      <td>1205.0</td>\n",
              "      <td>['https://images-na.ssl-images-amazon.com/imag...</td>\n",
              "      <td>Works great as a guitar bench mat. Not rugged ...</td>\n",
              "    </tr>\n",
              "    <tr>\n",
              "      <th>2</th>\n",
              "      <td>1708.0</td>\n",
              "      <td>['https://images-na.ssl-images-amazon.com/imag...</td>\n",
              "      <td>We use these for everything from our acoustic ...</td>\n",
              "    </tr>\n",
              "    <tr>\n",
              "      <th>3</th>\n",
              "      <td>2078.0</td>\n",
              "      <td>['https://images-na.ssl-images-amazon.com/imag...</td>\n",
              "      <td>Great price and good quality.  It didn't quite...</td>\n",
              "    </tr>\n",
              "    <tr>\n",
              "      <th>4</th>\n",
              "      <td>801.0</td>\n",
              "      <td>['https://images-na.ssl-images-amazon.com/imag...</td>\n",
              "      <td>I bought this bass to split time as my primary...</td>\n",
              "    </tr>\n",
              "    <tr>\n",
              "      <th>...</th>\n",
              "      <td>...</td>\n",
              "      <td>...</td>\n",
              "      <td>...</td>\n",
              "    </tr>\n",
              "    <tr>\n",
              "      <th>995</th>\n",
              "      <td>1265.0</td>\n",
              "      <td>['https://images-na.ssl-images-amazon.com/imag...</td>\n",
              "      <td>Extremely impressed with this kit.</td>\n",
              "    </tr>\n",
              "    <tr>\n",
              "      <th>996</th>\n",
              "      <td>1882.0</td>\n",
              "      <td>['https://images-na.ssl-images-amazon.com/imag...</td>\n",
              "      <td>This is a great stereo reverb with plenty of c...</td>\n",
              "    </tr>\n",
              "    <tr>\n",
              "      <th>997</th>\n",
              "      <td>1547.0</td>\n",
              "      <td>['https://images-na.ssl-images-amazon.com/imag...</td>\n",
              "      <td>I really like the simplicity of this bridge. I...</td>\n",
              "    </tr>\n",
              "    <tr>\n",
              "      <th>998</th>\n",
              "      <td>1004.0</td>\n",
              "      <td>['https://images-na.ssl-images-amazon.com/imag...</td>\n",
              "      <td>Great Product, but there is no warranty in the...</td>\n",
              "    </tr>\n",
              "    <tr>\n",
              "      <th>999</th>\n",
              "      <td>1306.0</td>\n",
              "      <td>['https://images-na.ssl-images-amazon.com/imag...</td>\n",
              "      <td>This product is good and is used in profession...</td>\n",
              "    </tr>\n",
              "  </tbody>\n",
              "</table>\n",
              "<p>1000 rows × 3 columns</p>\n",
              "</div>\n",
              "    <div class=\"colab-df-buttons\">\n",
              "\n",
              "  <div class=\"colab-df-container\">\n",
              "    <button class=\"colab-df-convert\" onclick=\"convertToInteractive('df-bde673bc-1060-4796-8d5f-6fffc4d2a035')\"\n",
              "            title=\"Convert this dataframe to an interactive table.\"\n",
              "            style=\"display:none;\">\n",
              "\n",
              "  <svg xmlns=\"http://www.w3.org/2000/svg\" height=\"24px\" viewBox=\"0 -960 960 960\">\n",
              "    <path d=\"M120-120v-720h720v720H120Zm60-500h600v-160H180v160Zm220 220h160v-160H400v160Zm0 220h160v-160H400v160ZM180-400h160v-160H180v160Zm440 0h160v-160H620v160ZM180-180h160v-160H180v160Zm440 0h160v-160H620v160Z\"/>\n",
              "  </svg>\n",
              "    </button>\n",
              "\n",
              "  <style>\n",
              "    .colab-df-container {\n",
              "      display:flex;\n",
              "      gap: 12px;\n",
              "    }\n",
              "\n",
              "    .colab-df-convert {\n",
              "      background-color: #E8F0FE;\n",
              "      border: none;\n",
              "      border-radius: 50%;\n",
              "      cursor: pointer;\n",
              "      display: none;\n",
              "      fill: #1967D2;\n",
              "      height: 32px;\n",
              "      padding: 0 0 0 0;\n",
              "      width: 32px;\n",
              "    }\n",
              "\n",
              "    .colab-df-convert:hover {\n",
              "      background-color: #E2EBFA;\n",
              "      box-shadow: 0px 1px 2px rgba(60, 64, 67, 0.3), 0px 1px 3px 1px rgba(60, 64, 67, 0.15);\n",
              "      fill: #174EA6;\n",
              "    }\n",
              "\n",
              "    .colab-df-buttons div {\n",
              "      margin-bottom: 4px;\n",
              "    }\n",
              "\n",
              "    [theme=dark] .colab-df-convert {\n",
              "      background-color: #3B4455;\n",
              "      fill: #D2E3FC;\n",
              "    }\n",
              "\n",
              "    [theme=dark] .colab-df-convert:hover {\n",
              "      background-color: #434B5C;\n",
              "      box-shadow: 0px 1px 3px 1px rgba(0, 0, 0, 0.15);\n",
              "      filter: drop-shadow(0px 1px 2px rgba(0, 0, 0, 0.3));\n",
              "      fill: #FFFFFF;\n",
              "    }\n",
              "  </style>\n",
              "\n",
              "    <script>\n",
              "      const buttonEl =\n",
              "        document.querySelector('#df-bde673bc-1060-4796-8d5f-6fffc4d2a035 button.colab-df-convert');\n",
              "      buttonEl.style.display =\n",
              "        google.colab.kernel.accessAllowed ? 'block' : 'none';\n",
              "\n",
              "      async function convertToInteractive(key) {\n",
              "        const element = document.querySelector('#df-bde673bc-1060-4796-8d5f-6fffc4d2a035');\n",
              "        const dataTable =\n",
              "          await google.colab.kernel.invokeFunction('convertToInteractive',\n",
              "                                                    [key], {});\n",
              "        if (!dataTable) return;\n",
              "\n",
              "        const docLinkHtml = 'Like what you see? Visit the ' +\n",
              "          '<a target=\"_blank\" href=https://colab.research.google.com/notebooks/data_table.ipynb>data table notebook</a>'\n",
              "          + ' to learn more about interactive tables.';\n",
              "        element.innerHTML = '';\n",
              "        dataTable['output_type'] = 'display_data';\n",
              "        await google.colab.output.renderOutput(dataTable, element);\n",
              "        const docLink = document.createElement('div');\n",
              "        docLink.innerHTML = docLinkHtml;\n",
              "        element.appendChild(docLink);\n",
              "      }\n",
              "    </script>\n",
              "  </div>\n",
              "\n",
              "\n",
              "<div id=\"df-400a60d1-5abc-4bd1-8b1d-20b9fc110ed5\">\n",
              "  <button class=\"colab-df-quickchart\" onclick=\"quickchart('df-400a60d1-5abc-4bd1-8b1d-20b9fc110ed5')\"\n",
              "            title=\"Suggest charts\"\n",
              "            style=\"display:none;\">\n",
              "\n",
              "<svg xmlns=\"http://www.w3.org/2000/svg\" height=\"24px\"viewBox=\"0 0 24 24\"\n",
              "     width=\"24px\">\n",
              "    <g>\n",
              "        <path d=\"M19 3H5c-1.1 0-2 .9-2 2v14c0 1.1.9 2 2 2h14c1.1 0 2-.9 2-2V5c0-1.1-.9-2-2-2zM9 17H7v-7h2v7zm4 0h-2V7h2v10zm4 0h-2v-4h2v4z\"/>\n",
              "    </g>\n",
              "</svg>\n",
              "  </button>\n",
              "\n",
              "<style>\n",
              "  .colab-df-quickchart {\n",
              "      --bg-color: #E8F0FE;\n",
              "      --fill-color: #1967D2;\n",
              "      --hover-bg-color: #E2EBFA;\n",
              "      --hover-fill-color: #174EA6;\n",
              "      --disabled-fill-color: #AAA;\n",
              "      --disabled-bg-color: #DDD;\n",
              "  }\n",
              "\n",
              "  [theme=dark] .colab-df-quickchart {\n",
              "      --bg-color: #3B4455;\n",
              "      --fill-color: #D2E3FC;\n",
              "      --hover-bg-color: #434B5C;\n",
              "      --hover-fill-color: #FFFFFF;\n",
              "      --disabled-bg-color: #3B4455;\n",
              "      --disabled-fill-color: #666;\n",
              "  }\n",
              "\n",
              "  .colab-df-quickchart {\n",
              "    background-color: var(--bg-color);\n",
              "    border: none;\n",
              "    border-radius: 50%;\n",
              "    cursor: pointer;\n",
              "    display: none;\n",
              "    fill: var(--fill-color);\n",
              "    height: 32px;\n",
              "    padding: 0;\n",
              "    width: 32px;\n",
              "  }\n",
              "\n",
              "  .colab-df-quickchart:hover {\n",
              "    background-color: var(--hover-bg-color);\n",
              "    box-shadow: 0 1px 2px rgba(60, 64, 67, 0.3), 0 1px 3px 1px rgba(60, 64, 67, 0.15);\n",
              "    fill: var(--button-hover-fill-color);\n",
              "  }\n",
              "\n",
              "  .colab-df-quickchart-complete:disabled,\n",
              "  .colab-df-quickchart-complete:disabled:hover {\n",
              "    background-color: var(--disabled-bg-color);\n",
              "    fill: var(--disabled-fill-color);\n",
              "    box-shadow: none;\n",
              "  }\n",
              "\n",
              "  .colab-df-spinner {\n",
              "    border: 2px solid var(--fill-color);\n",
              "    border-color: transparent;\n",
              "    border-bottom-color: var(--fill-color);\n",
              "    animation:\n",
              "      spin 1s steps(1) infinite;\n",
              "  }\n",
              "\n",
              "  @keyframes spin {\n",
              "    0% {\n",
              "      border-color: transparent;\n",
              "      border-bottom-color: var(--fill-color);\n",
              "      border-left-color: var(--fill-color);\n",
              "    }\n",
              "    20% {\n",
              "      border-color: transparent;\n",
              "      border-left-color: var(--fill-color);\n",
              "      border-top-color: var(--fill-color);\n",
              "    }\n",
              "    30% {\n",
              "      border-color: transparent;\n",
              "      border-left-color: var(--fill-color);\n",
              "      border-top-color: var(--fill-color);\n",
              "      border-right-color: var(--fill-color);\n",
              "    }\n",
              "    40% {\n",
              "      border-color: transparent;\n",
              "      border-right-color: var(--fill-color);\n",
              "      border-top-color: var(--fill-color);\n",
              "    }\n",
              "    60% {\n",
              "      border-color: transparent;\n",
              "      border-right-color: var(--fill-color);\n",
              "    }\n",
              "    80% {\n",
              "      border-color: transparent;\n",
              "      border-right-color: var(--fill-color);\n",
              "      border-bottom-color: var(--fill-color);\n",
              "    }\n",
              "    90% {\n",
              "      border-color: transparent;\n",
              "      border-bottom-color: var(--fill-color);\n",
              "    }\n",
              "  }\n",
              "</style>\n",
              "\n",
              "  <script>\n",
              "    async function quickchart(key) {\n",
              "      const quickchartButtonEl =\n",
              "        document.querySelector('#' + key + ' button');\n",
              "      quickchartButtonEl.disabled = true;  // To prevent multiple clicks.\n",
              "      quickchartButtonEl.classList.add('colab-df-spinner');\n",
              "      try {\n",
              "        const charts = await google.colab.kernel.invokeFunction(\n",
              "            'suggestCharts', [key], {});\n",
              "      } catch (error) {\n",
              "        console.error('Error during call to suggestCharts:', error);\n",
              "      }\n",
              "      quickchartButtonEl.classList.remove('colab-df-spinner');\n",
              "      quickchartButtonEl.classList.add('colab-df-quickchart-complete');\n",
              "    }\n",
              "    (() => {\n",
              "      let quickchartButtonEl =\n",
              "        document.querySelector('#df-400a60d1-5abc-4bd1-8b1d-20b9fc110ed5 button');\n",
              "      quickchartButtonEl.style.display =\n",
              "        google.colab.kernel.accessAllowed ? 'block' : 'none';\n",
              "    })();\n",
              "  </script>\n",
              "</div>\n",
              "    </div>\n",
              "  </div>\n"
            ],
            "text/plain": [
              "     Product ID.                                              Image  \\\n",
              "0         3452.0  ['https://images-na.ssl-images-amazon.com/imag...   \n",
              "1         1205.0  ['https://images-na.ssl-images-amazon.com/imag...   \n",
              "2         1708.0  ['https://images-na.ssl-images-amazon.com/imag...   \n",
              "3         2078.0  ['https://images-na.ssl-images-amazon.com/imag...   \n",
              "4          801.0  ['https://images-na.ssl-images-amazon.com/imag...   \n",
              "..           ...                                                ...   \n",
              "995       1265.0  ['https://images-na.ssl-images-amazon.com/imag...   \n",
              "996       1882.0  ['https://images-na.ssl-images-amazon.com/imag...   \n",
              "997       1547.0  ['https://images-na.ssl-images-amazon.com/imag...   \n",
              "998       1004.0  ['https://images-na.ssl-images-amazon.com/imag...   \n",
              "999       1306.0  ['https://images-na.ssl-images-amazon.com/imag...   \n",
              "\n",
              "                                           Review text  \n",
              "0    Loving these vintage springs on my vintage str...  \n",
              "1    Works great as a guitar bench mat. Not rugged ...  \n",
              "2    We use these for everything from our acoustic ...  \n",
              "3    Great price and good quality.  It didn't quite...  \n",
              "4    I bought this bass to split time as my primary...  \n",
              "..                                                 ...  \n",
              "995                 Extremely impressed with this kit.  \n",
              "996  This is a great stereo reverb with plenty of c...  \n",
              "997  I really like the simplicity of this bridge. I...  \n",
              "998  Great Product, but there is no warranty in the...  \n",
              "999  This product is good and is used in profession...  \n",
              "\n",
              "[1000 rows x 3 columns]"
            ]
          },
          "execution_count": 4,
          "metadata": {},
          "output_type": "execute_result"
        }
      ],
      "source": [
        "df"
      ]
    },
    {
      "cell_type": "code",
      "execution_count": 100,
      "metadata": {
        "id": "AIEhIjDZIjtx"
      },
      "outputs": [],
      "source": [
        "image_column = \"Image\"\n",
        "for index, row in df.iterrows():\n",
        "    image_url = row[image_column]\n",
        "    images = image_url.strip('[]').split(',')\n",
        "    images = [value.strip().strip(\"'\") for value in images]\n",
        "    df.at[index, image_column] = images\n",
        "\n"
      ]
    },
    {
      "cell_type": "code",
      "execution_count": 101,
      "metadata": {
        "id": "N-VzVQ0ePxBt"
      },
      "outputs": [],
      "source": [
        "\n",
        "df = df.explode('Image')\n",
        "df.reset_index(drop=True, inplace=True)\n",
        "df[\"image_links\"] = df[\"Image\"]\n"
      ]
    },
    {
      "cell_type": "code",
      "execution_count": 102,
      "metadata": {
        "id": "SGz9rujutLDu"
      },
      "outputs": [],
      "source": [
        "def url_to_image(url):\n",
        "\n",
        "    try:\n",
        "        response = requests.get(url)\n",
        "        if response.status_code == 200:\n",
        "            img = Image.open(BytesIO(response.content))\n",
        "            return img\n",
        "        else:\n",
        "            return None\n",
        "    except Exception as e:\n",
        "        print(f\"Error downloading image from {url}: {e}\")\n",
        "        return None\n",
        "def preprocess_images(url):\n",
        "    preprocessed_images = []\n",
        "\n",
        "    image = url_to_image(url)\n",
        "    if image is not None:\n",
        "        preprocessed_images.append(image)\n",
        "    return preprocessed_images\n",
        "\n",
        "# Apply preprocessing and filter rows with no valid images\n",
        "df['Image'] = df['Image'].apply(preprocess_images)\n",
        "df = df[df['Image'].apply(len) > 0]"
      ]
    },
    {
      "cell_type": "code",
      "execution_count": 103,
      "metadata": {
        "id": "ahooRpAfvep4"
      },
      "outputs": [],
      "source": [
        "def adjust_contrast(image, factor=1.2):\n",
        "    enhancer = ImageEnhance.Contrast(image)\n",
        "    return enhancer.enhance(factor)\n",
        "\n",
        "# Function to resize an image to a specified size\n",
        "def resize_image(image, size=(100, 100)):\n",
        "    return image.resize(size)\n",
        "\n",
        "# Function to adjust brightness and exposure of an image\n",
        "def adjust_brightness(image, factor=1.2):\n",
        "    enhancer = ImageEnhance.Brightness(image)\n",
        "    return enhancer.enhance(factor)\n"
      ]
    },
    {
      "cell_type": "code",
      "execution_count": 104,
      "metadata": {
        "id": "JBAnx98IwX5-"
      },
      "outputs": [],
      "source": [
        "def preprocessing(urls):\n",
        "  preprocessed_images = []\n",
        "  for image in urls:\n",
        "        image = adjust_contrast(image)\n",
        "        image = resize_image(image)\n",
        "        image = adjust_brightness(image)\n",
        "        preprocessed_images.append(image)\n",
        "  return preprocessed_images\n",
        "\n",
        "df['Image'] = df['Image'].apply(preprocessing)"
      ]
    },
    {
      "cell_type": "code",
      "execution_count": 105,
      "metadata": {
        "id": "yIRcEBwI0XUA"
      },
      "outputs": [],
      "source": [
        "from keras.applications import VGG16\n",
        "from keras.preprocessing import image\n",
        "from keras.applications.vgg16 import preprocess_input\n",
        "import pickle"
      ]
    },
    {
      "cell_type": "code",
      "execution_count": 106,
      "metadata": {
        "id": "ylyDBDvT7Kpy"
      },
      "outputs": [],
      "source": [
        "model = VGG16(weights='imagenet', include_top=False)\n",
        "def normalize_features(features):\n",
        "    min_val = np.min(features)\n",
        "    max_val = np.max(features)\n",
        "    normalized_features = (features - min_val) / (max_val - min_val)\n",
        "    return normalized_features"
      ]
    },
    {
      "cell_type": "code",
      "execution_count": null,
      "metadata": {
        "id": "BITNuzTp0-dr"
      },
      "outputs": [],
      "source": [
        "\n",
        "def extract_features(images):\n",
        "    image_features = []\n",
        "    for img in images:\n",
        "            img = img.resize((100, 100))  # Resize image to VGG16 input size\n",
        "            x = image.img_to_array(img)\n",
        "            x = np.expand_dims(x, axis=0)\n",
        "            x = preprocess_input(x)\n",
        "            features = model.predict(x)\n",
        "            image_features.append(features)  # Store extracted features\n",
        "    return image_features\n",
        "df['Image_Features'] = df['Image'].apply(extract_features)\n",
        "\n",
        "\n",
        "df['Image_Features'] = df['Image_Features'].apply(lambda x: [normalize_features(feature) for feature in x])\n",
        "\n",
        "\n",
        "import pickle\n",
        "with open('/content/extracted_features.pkl', 'wb') as f:\n",
        "    pickle.dump(df['Image_Features'], f)"
      ]
    },
    {
      "cell_type": "code",
      "execution_count": 107,
      "metadata": {
        "id": "1gIQCcQpHNyj"
      },
      "outputs": [],
      "source": [
        "with open('/content/extracted_features.pkl', 'rb') as f:\n",
        "    data = pickle.load(f)\n",
        "    df['Image_Features'] = data"
      ]
    },
    {
      "cell_type": "markdown",
      "metadata": {
        "id": "vtjoIv2a53pi"
      },
      "source": [
        "#Part 2"
      ]
    },
    {
      "cell_type": "code",
      "execution_count": 108,
      "metadata": {
        "colab": {
          "base_uri": "https://localhost:8080/"
        },
        "id": "isRCVj8A5cl8",
        "outputId": "e330afbf-3a22-4cdf-ab95-40902feec5d1"
      },
      "outputs": [
        {
          "name": "stderr",
          "output_type": "stream",
          "text": [
            "[nltk_data] Downloading package punkt to /root/nltk_data...\n",
            "[nltk_data]   Package punkt is already up-to-date!\n",
            "[nltk_data] Downloading package stopwords to /root/nltk_data...\n",
            "[nltk_data]   Package stopwords is already up-to-date!\n",
            "[nltk_data] Downloading package wordnet to /root/nltk_data...\n",
            "[nltk_data]   Package wordnet is already up-to-date!\n"
          ]
        }
      ],
      "source": [
        "import nltk\n",
        "from nltk.tokenize import word_tokenize\n",
        "from nltk.corpus import stopwords\n",
        "from nltk.stem import PorterStemmer, WordNetLemmatizer\n",
        "import string\n",
        "from nltk.tokenize import TweetTokenizer\n",
        "import re\n",
        "\n",
        "# Download NLTK resources\n",
        "nltk.download('punkt')\n",
        "nltk.download('stopwords')\n",
        "nltk.download('wordnet')\n",
        "stop_words = set(stopwords.words('english'))\n",
        "tokenizer = TweetTokenizer()\n",
        "patterns = r\"\\b(?:[a-zA-Z](?:[a-zA-Z'_]*[a-zA-Z])?|(?<![_-])['_-](?![_-]))\\b\"\n"
      ]
    },
    {
      "cell_type": "code",
      "execution_count": 109,
      "metadata": {
        "id": "XLIDlaJu58pC"
      },
      "outputs": [],
      "source": [
        "def preprocess_text(text):\n",
        "    # Lower-casing\n",
        "    if pd.isnull(text) or text.strip() == '':\n",
        "        return None\n",
        "    lowercase_content = text.lower()\n",
        "    tokens = re.findall(patterns, lowercase_content)\n",
        "    tokens = [word for word in tokens if word not in stop_words]\n",
        "    tokens = [token for token in tokens if token not in string.punctuation]\n",
        "    tokens = [token for token in tokens if token.strip()]\n",
        "\n",
        "\n",
        "    # Stemming\n",
        "    stemmer = PorterStemmer()\n",
        "    tokens = [stemmer.stem(token) for token in tokens]\n",
        "\n",
        "    # Lemmatization\n",
        "    lemmatizer = WordNetLemmatizer()\n",
        "    tokens = [lemmatizer.lemmatize(token) for token in tokens]\n",
        "\n",
        "    return tokens\n",
        "\n",
        "# Apply text preprocessing to the 'Review text' column\n",
        "df['Processed Review'] = df['Review text'].apply(preprocess_text)"
      ]
    },
    {
      "cell_type": "code",
      "execution_count": 110,
      "metadata": {
        "colab": {
          "base_uri": "https://localhost:8080/"
        },
        "id": "Q3iQ0W61Re6T",
        "outputId": "919fa576-8490-4cf5-a688-77b10da10caa"
      },
      "outputs": [
        {
          "name": "stdout",
          "output_type": "stream",
          "text": [
            "<class 'pandas.core.frame.DataFrame'>\n",
            "Int64Index: 1640 entries, 0 to 1647\n",
            "Data columns (total 6 columns):\n",
            " #   Column            Non-Null Count  Dtype  \n",
            "---  ------            --------------  -----  \n",
            " 0   Product ID.       1640 non-null   float64\n",
            " 1   Image             1640 non-null   object \n",
            " 2   Review text       1639 non-null   object \n",
            " 3   image_links       1640 non-null   object \n",
            " 4   Image_Features    1640 non-null   object \n",
            " 5   Processed Review  1639 non-null   object \n",
            "dtypes: float64(1), object(5)\n",
            "memory usage: 89.7+ KB\n"
          ]
        }
      ],
      "source": [
        "df.info()"
      ]
    },
    {
      "cell_type": "code",
      "execution_count": 111,
      "metadata": {
        "id": "QjvdxjulQ2h-"
      },
      "outputs": [],
      "source": [
        "from collections import Counter\n",
        "def calculate_tf(review):\n",
        "    tf_dict = {}\n",
        "    if review == None:\n",
        "        return None\n",
        "\n",
        "    word_count = len(review)\n",
        "    word_freq = Counter(review)\n",
        "    for word, freq in word_freq.items():\n",
        "        tf_dict[word] = freq / word_count\n",
        "    return tf_dict\n",
        "\n",
        "df['TF'] = df['Processed Review'].apply(calculate_tf)\n"
      ]
    },
    {
      "cell_type": "code",
      "execution_count": 112,
      "metadata": {
        "id": "QQHuJ8m4SOfj"
      },
      "outputs": [],
      "source": [
        "import math\n",
        "def calculate_idf(corpus):\n",
        "    total_docs = len(corpus)\n",
        "    idf_dict = {}\n",
        "    word_doc_freq = {}\n",
        "    for doc in corpus:\n",
        "        if doc is None:\n",
        "            continue\n",
        "        unique_words = set(doc)\n",
        "        for word in unique_words:\n",
        "            word_doc_freq[word] = word_doc_freq.get(word, 0) + 1\n",
        "    for word, freq in word_doc_freq.items():\n",
        "        idf_dict[word] = math.log(total_docs / freq)\n",
        "    return idf_dict\n",
        "\n",
        "corpus = df['Processed Review'].tolist()\n",
        "idf_dict = calculate_idf(corpus)"
      ]
    },
    {
      "cell_type": "code",
      "execution_count": null,
      "metadata": {
        "id": "btLo39FolZ4m"
      },
      "outputs": [],
      "source": [
        "idf_dict"
      ]
    },
    {
      "cell_type": "code",
      "execution_count": 113,
      "metadata": {
        "id": "8B3m33HKSuNN"
      },
      "outputs": [],
      "source": [
        "def calculate_tfidf(tf_dict, idf_dict):\n",
        "    if not tf_dict:  # Check if tf_dict is empty (None review)\n",
        "        return {}\n",
        "    tfidf_dict = {}\n",
        "    for word, tf in tf_dict.items():\n",
        "        tfidf_dict[word] = tf * idf_dict.get(word, 0)\n",
        "    return tfidf_dict\n",
        "\n",
        "df['TF-IDF'] = df['TF'].apply(lambda x: calculate_tfidf(x, idf_dict))"
      ]
    },
    {
      "cell_type": "code",
      "execution_count": 18,
      "metadata": {
        "id": "W1YoCZNQl3YC"
      },
      "outputs": [],
      "source": [
        "with open('/content/tf-idf.pkl', 'wb') as f:\n",
        "    pickle.dump(df['TF-IDF'], f)"
      ]
    },
    {
      "cell_type": "markdown",
      "metadata": {
        "id": "j3JvPXwQl-Bt"
      },
      "source": [
        "#Part 3\n"
      ]
    },
    {
      "cell_type": "code",
      "execution_count": 114,
      "metadata": {
        "id": "r1f9LDQ6qbrC"
      },
      "outputs": [],
      "source": [
        "def download_image(url):\n",
        "    response = requests.get(url)\n",
        "    if response.status_code == 200:\n",
        "        img = Image.open(BytesIO(response.content))\n",
        "        return img\n",
        "    else:\n",
        "        print(f\"Failed to download image from URL: {url}\")\n",
        "        return None"
      ]
    },
    {
      "cell_type": "code",
      "execution_count": 116,
      "metadata": {
        "colab": {
          "base_uri": "https://localhost:8080/"
        },
        "id": "LvRmyJQGl9ha",
        "outputId": "52e9e64f-8e68-456f-d071-198a0f58359d"
      },
      "outputs": [
        {
          "name": "stdout",
          "output_type": "stream",
          "text": [
            "enter url of the image: https://images-na.ssl-images-amazon.com/images/I/61Yuwnt9eoL._SY88.jpg\n"
          ]
        }
      ],
      "source": [
        "input_image_url = input(\"enter url of the image: \")\n",
        "input_image = download_image(input_image_url)\n"
      ]
    },
    {
      "cell_type": "code",
      "execution_count": 117,
      "metadata": {
        "colab": {
          "base_uri": "https://localhost:8080/",
          "height": 105
        },
        "id": "V9g3q9NrM4ie",
        "outputId": "b191b609-7b3b-49d6-c41e-21e278d1cefc"
      },
      "outputs": [
        {
          "data": {
            "image/png": "[encoded data removed]",
            "text/plain": [
              "<PIL.JpegImagePlugin.JpegImageFile image mode=RGB size=117x88>"
            ]
          },
          "execution_count": 117,
          "metadata": {},
          "output_type": "execute_result"
        }
      ],
      "source": [
        "input_image"
      ]
    },
    {
      "cell_type": "code",
      "execution_count": 118,
      "metadata": {
        "colab": {
          "base_uri": "https://localhost:8080/"
        },
        "id": "vsmbIF9-q945",
        "outputId": "95f73102-2ac5-4d78-ff9c-c80f112392e4"
      },
      "outputs": [
        {
          "name": "stdout",
          "output_type": "stream",
          "text": [
            "1/1 [==============================] - 0s 137ms/step\n"
          ]
        }
      ],
      "source": [
        "\n",
        "img = input_image.resize((100, 100))  # Resize image to VGG16 input size\n",
        "x = image.img_to_array(img)\n",
        "x = np.expand_dims(x, axis=0)\n",
        "x = preprocess_input(x)\n",
        "features = model.predict(x)\n",
        "features = normalize_features(features)\n"
      ]
    },
    {
      "cell_type": "code",
      "execution_count": 119,
      "metadata": {
        "id": "bFurJtiy10eH"
      },
      "outputs": [],
      "source": [
        "def flatten_array(lst):\n",
        "    arr = np.array(lst)\n",
        "    arr = arr.reshape(-1)\n",
        "    return arr\n",
        "\n",
        "# Apply the function to each element of the DataFrame column\n",
        "df['Image_Features'] = df['Image_Features'].apply(flatten_array)\n",
        "features = features.reshape(-1)"
      ]
    },
    {
      "cell_type": "code",
      "execution_count": 130,
      "metadata": {
        "colab": {
          "base_uri": "https://localhost:8080/"
        },
        "id": "OW6u7-r7pQaf",
        "outputId": "7b7e6cf0-2215-40cf-a010-3c3668526c6b"
      },
      "outputs": [
        {
          "name": "stdout",
          "output_type": "stream",
          "text": [
            "Product ID: 216.0\n"
          ]
        }
      ],
      "source": [
        "row = df[df['image_links'] == input_image_url]\n",
        "\n",
        "# Retrieve the product ID from the row\n",
        "if not row.empty:\n",
        "    product_id = row.iloc[0]['Product ID.']\n",
        "    product_review = row.iloc[0]['Processed Review']\n",
        "    tfidf = row.iloc[0]['TF-IDF']\n",
        "    print(\"Product ID:\", product_id)\n",
        "else:\n",
        "    print(\"Image link not found in DataFrame.\")"
      ]
    },
    {
      "cell_type": "code",
      "execution_count": 121,
      "metadata": {
        "id": "lhzv8qHOCQrS"
      },
      "outputs": [],
      "source": [
        "def dict_to_vector(dictionary, vocabulary):\n",
        "    vector_length = len(vocabulary)\n",
        "    vector = np.zeros(vector_length)\n",
        "    for key, value in dictionary.items():\n",
        "        if key in vocabulary:\n",
        "            index = vocabulary.index(key)\n",
        "            vector[index] = value\n",
        "    return vector"
      ]
    },
    {
      "cell_type": "code",
      "execution_count": 133,
      "metadata": {
        "colab": {
          "base_uri": "https://localhost:8080/"
        },
        "id": "cxENma6V0KTT",
        "outputId": "85ce2ee1-9582-4ab4-9fc7-cbb85764e86e"
      },
      "outputs": [
        {
          "data": {
            "text/plain": [
              "216.0"
            ]
          },
          "execution_count": 133,
          "metadata": {},
          "output_type": "execute_result"
        }
      ],
      "source": [
        "product_id"
      ]
    },
    {
      "cell_type": "code",
      "execution_count": 135,
      "metadata": {
        "colab": {
          "base_uri": "https://localhost:8080/"
        },
        "id": "ZnJtyCz4Gs-z",
        "outputId": "a1fc05cd-ad86-425e-fdcb-472d01fd0f9e"
      },
      "outputs": [
        {
          "data": {
            "text/plain": [
              "[(1312, 0.33284348), (713, 0.2829513), (721, 0.27994642)]"
            ]
          },
          "execution_count": 135,
          "metadata": {},
          "output_type": "execute_result"
        }
      ],
      "source": [
        "from sklearn.metrics.pairwise import cosine_similarity\n",
        "from sklearn.feature_extraction.text import TfidfVectorizer\n",
        "\n",
        "# Assuming 'features' and 'product_id' are already defined\n",
        "flat_input_features = features.flatten()\n",
        "\n",
        "# Calculate cosine similarity between input features and each array in the DataFrame column\n",
        "cos_similarities = []\n",
        "\n",
        "# Store product IDs of images already considered\n",
        "\n",
        "for index, row in df.iterrows():\n",
        "    # Exclude images with the same product ID as the input image\n",
        "    if row['Product ID.'] == product_id:\n",
        "        continue\n",
        "    if row['Product ID.'] == product_id:\n",
        "        print(product_id)\n",
        "        continue\n",
        "\n",
        "    # Check if the product ID has already been considered\n",
        "\n",
        "\n",
        "    resized_array = np.resize(row['Image_Features'], features.shape)\n",
        "    flat_array = resized_array.flatten()\n",
        "    cos_sim = cosine_similarity(flat_input_features.reshape(1, -1), flat_array.reshape(1, -1))\n",
        "    cos_similarities.append((index, cos_sim[0][0]))\n",
        "\n",
        "    # Add the product ID to the set of considered IDs\n",
        "\n",
        "# Sort similarity scores in descending order\n",
        "cos_similarities.sort(key=lambda x: x[1], reverse=True)\n",
        "\n",
        "# Retrieve top three most similar images\n",
        "top_three_similar_images = cos_similarities[:3]\n",
        "top_three_similar_images"
      ]
    },
    {
      "cell_type": "code",
      "execution_count": null,
      "metadata": {
        "id": "w07Gf-xCGuO7"
      },
      "outputs": [],
      "source": []
    },
    {
      "cell_type": "code",
      "execution_count": 149,
      "metadata": {
        "colab": {
          "base_uri": "https://localhost:8080/"
        },
        "id": "pk0D-rHOjgYj",
        "outputId": "cb2963e7-69c6-4d90-84f2-ed1b405018b6"
      },
      "outputs": [
        {
          "name": "stdout",
          "output_type": "stream",
          "text": [
            "Product ID: 2760.0\n",
            "Image link: https://images-na.ssl-images-amazon.com/images/I/71J9ItBhxPL._SY88.jpg\n",
            "Product review: Just what I needed, although at it's lowest setting, wass about an inch too tall for me sitting on the edge of my bed. Ive gotten used to it now so it's all good! Like others have said, it's good quality and sturdy construction. I stubbed my toe on it in The night, and quickly wished that hadn't happened! The rubber grip on top is actually riveted on, so that should last a good while. I also used this for when I practice standing up. I rest my foot on it which pushes the bottom of my guitars out so I can see what I'm doing. All in all its a good product and I recommend it. A word of warning, this is made of strong metal, if you're buying this for your son or daughter, show them the dangers of the scissoring action of the legs. I imagine they could do some hurtin to little fingers.\n",
            "Cosine similarity score of image: 0.33284348\n",
            "Cosine similarity score of text: 0.035557956123693606\n",
            "Composite similarity score: 0.18420071930902393\n",
            "\n",
            "Product ID: 1985.0\n",
            "Image link: https://images-na.ssl-images-amazon.com/images/I/61+fZWPVVFL._SY88.jpg\n",
            "Product review: Pretty simple perfect fit a little thicker than the original used it for a vintage modified 70s squire strat to give it an even more classic look. It was very easy to put on just watch a youtube video youll be fine. The black backplate adds a nice touch i have silver and black hardware so that worked out. I felt that the screws they gave me weren't as good as my originals. I did not use them. I think this product is a bit overpriced but thats probably because its laser etched. Adds a nice touch without seeming like you are trying to pass your guitar off for something more expensive. Here are some pictures.\n",
            "Cosine similarity score of image: 0.2829513\n",
            "Cosine similarity score of text: 0.01625583125640215\n",
            "Composite similarity score: 0.14960356331611308\n",
            "\n",
            "Product ID: 2725.0\n",
            "Image link: https://images-na.ssl-images-amazon.com/images/I/610tA4v87ML._SY88.jpg\n",
            "Product review: A great product if you need to connect a guitar to a computer or other USB compatible recording device. The cord is incredibly well made. I would say this is for home-use or hobby recording. It would be wonderful to be used to save song ideas or songs in the making. The connections work just fine and are well made. The cord is nice and long so it's comfortable to sit or stand and play and not feel too attached to a computer. The connection points are nice and sturdy so they won't break. If you are in the market for one of these types of guitar cables, I do recommend this one.\n",
            "\n",
            "Disclaimer: I received this product for free in exchange for my honest and unbiased review.\n",
            "Cosine similarity score of image: 0.27994642\n",
            "Cosine similarity score of text: 0.045115892317919674\n",
            "Composite similarity score: 0.16253115446717975\n",
            "\n"
          ]
        }
      ],
      "source": [
        "review_cosine = []\n",
        "for index, similarity_score in top_three_similar_images:\n",
        "  tfidf_dict1 = tfidf\n",
        "  tfidf_dict2 = df.loc[index,'TF-IDF']\n",
        "  vocabulary = list(set(tfidf_dict1.keys()) | set(tfidf_dict2.keys()))\n",
        "  tfidf_vector1 = dict_to_vector(tfidf_dict1, vocabulary)\n",
        "  tfidf_vector2 = dict_to_vector(tfidf_dict2, vocabulary)\n",
        "  cosine_sim = cosine_similarity([tfidf_vector1], [tfidf_vector2])\n",
        "  review_cosine.append(cosine_sim[0][0])\n",
        "\n",
        "\n",
        "\n",
        "\n",
        "# Print top three similar images along with their URLs, product reviews, and product IDs\n",
        "i=0\n",
        "for index, similarity_score in top_three_similar_images:\n",
        "    image_link = df.loc[index, 'image_links']\n",
        "    product_review = df.loc[index, 'Review text']\n",
        "    product_id = df.loc[index, 'Product ID.']\n",
        "    print(\"Product ID:\", product_id)\n",
        "    print(\"Image link:\", image_link)\n",
        "    print(\"Product review:\", product_review)\n",
        "    print(\"Cosine similarity score of image:\", similarity_score)\n",
        "    print(\"Cosine similarity score of text:\",review_cosine[i])\n",
        "    i+=1\n",
        "    print()\n"
      ]
    },
    {
      "cell_type": "markdown",
      "metadata": {
        "id": "nyUclgnoTeDI"
      },
      "source": [
        "Ranking on the basis of the composite score"
      ]
    },
    {
      "cell_type": "code",
      "execution_count": 151,
      "metadata": {
        "colab": {
          "base_uri": "https://localhost:8080/"
        },
        "id": "i8hBXgduTNgN",
        "outputId": "34138187-3684-4d46-cca8-70bc75228d5d"
      },
      "outputs": [
        {
          "name": "stdout",
          "output_type": "stream",
          "text": [
            "Product ID: 2760.0\n",
            "Image link: https://images-na.ssl-images-amazon.com/images/I/71J9ItBhxPL._SY88.jpg\n",
            "Product review: Just what I needed, although at it's lowest setting, wass about an inch too tall for me sitting on the edge of my bed. Ive gotten used to it now so it's all good! Like others have said, it's good quality and sturdy construction. I stubbed my toe on it in The night, and quickly wished that hadn't happened! The rubber grip on top is actually riveted on, so that should last a good while. I also used this for when I practice standing up. I rest my foot on it which pushes the bottom of my guitars out so I can see what I'm doing. All in all its a good product and I recommend it. A word of warning, this is made of strong metal, if you're buying this for your son or daughter, show them the dangers of the scissoring action of the legs. I imagine they could do some hurtin to little fingers.\n",
            "Composite similarity score: 0.18420071930902393\n",
            "\n",
            "Product ID: 2725.0\n",
            "Image link: https://images-na.ssl-images-amazon.com/images/I/610tA4v87ML._SY88.jpg\n",
            "Product review: A great product if you need to connect a guitar to a computer or other USB compatible recording device. The cord is incredibly well made. I would say this is for home-use or hobby recording. It would be wonderful to be used to save song ideas or songs in the making. The connections work just fine and are well made. The cord is nice and long so it's comfortable to sit or stand and play and not feel too attached to a computer. The connection points are nice and sturdy so they won't break. If you are in the market for one of these types of guitar cables, I do recommend this one.\n",
            "\n",
            "Disclaimer: I received this product for free in exchange for my honest and unbiased review.\n",
            "Composite similarity score: 0.16253115446717975\n",
            "\n",
            "Product ID: 1985.0\n",
            "Image link: https://images-na.ssl-images-amazon.com/images/I/61+fZWPVVFL._SY88.jpg\n",
            "Product review: Pretty simple perfect fit a little thicker than the original used it for a vintage modified 70s squire strat to give it an even more classic look. It was very easy to put on just watch a youtube video youll be fine. The black backplate adds a nice touch i have silver and black hardware so that worked out. I felt that the screws they gave me weren't as good as my originals. I did not use them. I think this product is a bit overpriced but thats probably because its laser etched. Adds a nice touch without seeming like you are trying to pass your guitar off for something more expensive. Here are some pictures.\n",
            "Composite similarity score: 0.14960356331611308\n",
            "\n"
          ]
        }
      ],
      "source": [
        "composite_scores = [(index, (similarity_score + review_cosine[i]) / 2) for i, (index, similarity_score) in enumerate(top_three_similar_images)]\n",
        "composite_scores = sorted(composite_scores, key=lambda x: x[1], reverse=True)\n",
        "\n",
        "for index, composite_score in composite_scores:\n",
        "    image_link = df.loc[index, 'image_links']\n",
        "    product_review = df.loc[index, 'Review text']\n",
        "    product_id = df.loc[index, 'Product ID.']\n",
        "    print(\"Product ID:\", product_id)\n",
        "    print(\"Image link:\", image_link)\n",
        "    print(\"Product review:\", product_review)\n",
        "    print(\"Composite similarity score:\", composite_score)\n",
        "    print()\n"
      ]
    },
    {
      "cell_type": "code",
      "execution_count": 170,
      "metadata": {
        "colab": {
          "base_uri": "https://localhost:8080/"
        },
        "id": "ITN6AmA6qstH",
        "outputId": "ea10a96f-dbe6-45ee-adb8-e187bb5fae86"
      },
      "outputs": [
        {
          "name": "stdout",
          "output_type": "stream",
          "text": [
            "enter review of the image: We use these for everything from our acoustic bass down to our ukuleles. I know there is a smaller model available for ukes, violins, etc.; we haven't yet ordered those, but these will work on smaller instruments if one doesn't extend the feet to their maximum width. They're gentle on the instruments, and the grippy material keeps them secure.  The greatest benefit has been when writing music at the computer and needing to set a guitar down to use the keyboard/mouse - just easier for me than a hanging stand.  We have several and gave one to a friend for Christmas as well. I've used mine on stage, and it folds up small enough to fit right in my gig bag.\n",
            "Product ID: 1708.0\n",
            "product url: https://images-na.ssl-images-amazon.com/images/I/71Md5ihUFLL._SY88.jpg\n"
          ]
        }
      ],
      "source": [
        "input_image_review= input(\"enter review of the image: \")\n",
        "input_image_review = preprocess_text(input_image_review)\n",
        "row = df[df['Processed Review'].apply(lambda x: x == input_image_review)]\n",
        "\n",
        "\n",
        "# Retrieve the product ID from the row\n",
        "if not row.empty:\n",
        "    product_id = row.iloc[0]['Product ID.']\n",
        "    product_url = row.iloc[0]['image_links']\n",
        "    tfidf = row.iloc[0]['TF-IDF']\n",
        "    input_features = row.iloc[0]['Image_Features']\n",
        "    print(\"Product ID:\", product_id)\n",
        "    print(\"product url:\",product_url)\n",
        "else:\n",
        "    print(\"Image review not found in DataFrame.\")\n",
        "\n",
        "\n"
      ]
    },
    {
      "cell_type": "code",
      "execution_count": 171,
      "metadata": {
        "colab": {
          "base_uri": "https://localhost:8080/"
        },
        "id": "g-uZyF8d1LMB",
        "outputId": "824bc84c-f4f5-4549-802d-5985fdd3be54"
      },
      "outputs": [
        {
          "data": {
            "text/plain": [
              "1708.0"
            ]
          },
          "execution_count": 171,
          "metadata": {},
          "output_type": "execute_result"
        }
      ],
      "source": [
        "product_id"
      ]
    },
    {
      "cell_type": "code",
      "execution_count": 172,
      "metadata": {
        "colab": {
          "base_uri": "https://localhost:8080/"
        },
        "id": "VHsVEdfVOEKT",
        "outputId": "7940588e-02f8-4916-c87a-8ce2cba9f9b8"
      },
      "outputs": [
        {
          "name": "stdout",
          "output_type": "stream",
          "text": [
            "{1708.0}\n"
          ]
        },
        {
          "data": {
            "text/plain": [
              "[(241, 0.170746742308244),\n",
              " (1031, 0.14409138801340432),\n",
              " (803, 0.1409550890236484)]"
            ]
          },
          "execution_count": 172,
          "metadata": {},
          "output_type": "execute_result"
        }
      ],
      "source": [
        "from sklearn.metrics.pairwise import cosine_similarity\n",
        "cos_similarities = []\n",
        "\n",
        "# Store product IDs of images already considered\n",
        "considered_ids = set()\n",
        "considered_ids.add(product_id)\n",
        "print(considered_ids)\n",
        "\n",
        "for index, row in df.iterrows():\n",
        "    # Exclude images with the same product ID as the input image\n",
        "    if row['Product ID.'] in considered_ids:\n",
        "      continue\n",
        "    if row['Product ID.'] in considered_ids:\n",
        "      continue\n",
        "    considered_ids.add(row['Product ID.'])\n",
        "    if row['Product ID.'] == product_id:\n",
        "      print(\"hi\")\n",
        "\n",
        "    tfidf_dict1 = tfidf\n",
        "    tfidf_dict2 = row['TF-IDF']\n",
        "    vocabulary = list(set(tfidf_dict1.keys()) | set(tfidf_dict2.keys()))\n",
        "\n",
        "\n",
        "    tfidf_vector1 = dict_to_vector(tfidf_dict1, vocabulary)\n",
        "    tfidf_vector2 = dict_to_vector(tfidf_dict2, vocabulary)\n",
        "\n",
        "\n",
        "\n",
        "    cosine_sim = cosine_similarity([tfidf_vector1], [tfidf_vector2])\n",
        "    cos_similarities.append((index, cosine_sim[0][0]))\n",
        "\n",
        "\n",
        "# Sort similarity scores in descending order\n",
        "cos_similarities.sort(key=lambda x: x[1], reverse=True)\n",
        "\n",
        "\n",
        "top_three_similar_reviews = cos_similarities[:3]\n",
        "top_three_similar_reviews"
      ]
    },
    {
      "cell_type": "code",
      "execution_count": 173,
      "metadata": {
        "colab": {
          "base_uri": "https://localhost:8080/"
        },
        "id": "M6GwqoCbE3En",
        "outputId": "c53d7da0-7326-4259-a802-4412625e0f4c"
      },
      "outputs": [
        {
          "name": "stdout",
          "output_type": "stream",
          "text": [
            "Product ID: 2281.0\n",
            "Product review: This is a nice stand, but it doesn't work great for my concert-sized ukulele.  It's definitely durable and adjustable, but it's a little too large for my instrument.  I have tried to pull the legs of the stand closer together in order to better accommodate the size of my ukulele, but in doing that, it feels a bit unstable.  If you're looking for a compact, inexpensive stand, I would definitely recommend this one, but just be aware that it might not work as well for smaller instruments.\n",
            "Product Image: https://images-na.ssl-images-amazon.com/images/I/71cp5HvMnBL._SY88.jpg\n",
            "Cosine similarity score of text: 0.170746742308244\n",
            "Cosine similarity score of Image: 0.22483307\n",
            "\n",
            "Product ID: 747.0\n",
            "Product review: I own a Yamaha 61 keys Keyboard and I ordered this stand because the product description says it is Yamaha make. But what is written on the box is:'Keyboard Stand For Portable Keyboards from Yamaha and Others' and there is no Yamaha emblem neither on the box nor on the stand. In fact, it is just a Chinese make generic stand. Apart from that, I am happy with the stand. It is:\n",
            "\n",
            "Easy to assemble and fold\n",
            "Sturdy enough to hold a 61 keys keyboard\n",
            "Keyboard fits well\n",
            "Product Image: https://images-na.ssl-images-amazon.com/images/I/61+M6HPL1DL._SY88.jpg\n",
            "Cosine similarity score of text: 0.14409138801340432\n",
            "Cosine similarity score of Image: 0.101335905\n",
            "\n",
            "Product ID: 578.0\n",
            "Product review: These are very sturdy and useful. I have one for gigs, one for busking, and a backup. I prefer hanging my violin on a stand than laying it in my case. It feels more secure and I have quick access.\n",
            "Product Image: https://images-na.ssl-images-amazon.com/images/I/71byMFii2FL._SY88.jpg\n",
            "Cosine similarity score of text: 0.1409550890236484\n",
            "Cosine similarity score of Image: 0.16211525\n",
            "\n"
          ]
        }
      ],
      "source": [
        "\n",
        "\n",
        "input_features = np.array(input_features)\n",
        "input_features=input_features.flatten()\n",
        "image_cos_sim = []\n",
        "for index,similarity_score in top_three_similar_reviews:\n",
        "    resized_array = np.resize(df.loc[index,'Image_Features'], input_features.shape)\n",
        "    flat_array = resized_array.flatten()\n",
        "    cos_sim = cosine_similarity(input_features.reshape(1, -1), flat_array.reshape(1, -1))\n",
        "    image_cos_sim.append(cos_sim[0][0])\n",
        "\n",
        "\n",
        "# Print top three similar images along with their URLs, product reviews, and product IDs\n",
        "i=0\n",
        "for index, similarity_score in top_three_similar_reviews:\n",
        "    image_link = df.loc[index, 'image_links']\n",
        "    product_review = df.loc[index, 'Review text']\n",
        "    product_id = df.loc[index, 'Product ID.']\n",
        "    image = df.loc[index,'image_links']\n",
        "    print(\"Product ID:\", product_id)\n",
        "    print(\"Product review:\", product_review)\n",
        "    print(\"Product Image:\", image)\n",
        "    print(\"Cosine similarity score of text:\",similarity_score)\n",
        "    print(\"Cosine similarity score of Image:\",image_cos_sim[i])\n",
        "    i+=1\n",
        "    print()\n",
        "\n",
        "\n"
      ]
    },
    {
      "cell_type": "code",
      "execution_count": 174,
      "metadata": {
        "colab": {
          "base_uri": "https://localhost:8080/"
        },
        "id": "A0n8jPPjLCrB",
        "outputId": "b7d38c6b-90b1-465e-d8b2-2f8f8e48f561"
      },
      "outputs": [
        {
          "name": "stdout",
          "output_type": "stream",
          "text": [
            "Product ID: 2281.0\n",
            "Image link: https://images-na.ssl-images-amazon.com/images/I/71cp5HvMnBL._SY88.jpg\n",
            "Product review: This is a nice stand, but it doesn't work great for my concert-sized ukulele.  It's definitely durable and adjustable, but it's a little too large for my instrument.  I have tried to pull the legs of the stand closer together in order to better accommodate the size of my ukulele, but in doing that, it feels a bit unstable.  If you're looking for a compact, inexpensive stand, I would definitely recommend this one, but just be aware that it might not work as well for smaller instruments.\n",
            "Composite similarity score: 0.1031523492159688\n",
            "\n",
            "Product ID: 578.0\n",
            "Image link: https://images-na.ssl-images-amazon.com/images/I/71byMFii2FL._SY88.jpg\n",
            "Product review: These are very sturdy and useful. I have one for gigs, one for busking, and a backup. I prefer hanging my violin on a stand than laying it in my case. It feels more secure and I have quick access.\n",
            "Composite similarity score: 0.09303549067078404\n",
            "\n",
            "Product ID: 747.0\n",
            "Image link: https://images-na.ssl-images-amazon.com/images/I/61+M6HPL1DL._SY88.jpg\n",
            "Product review: I own a Yamaha 61 keys Keyboard and I ordered this stand because the product description says it is Yamaha make. But what is written on the box is:'Keyboard Stand For Portable Keyboards from Yamaha and Others' and there is no Yamaha emblem neither on the box nor on the stand. In fact, it is just a Chinese make generic stand. Apart from that, I am happy with the stand. It is:\n",
            "\n",
            "Easy to assemble and fold\n",
            "Sturdy enough to hold a 61 keys keyboard\n",
            "Keyboard fits well\n",
            "Composite similarity score: 0.08017360963490323\n",
            "\n"
          ]
        }
      ],
      "source": [
        "composite_scores = [(index, (similarity_score + review_cosine[i]) / 2) for i, (index, similarity_score) in enumerate(top_three_similar_reviews)]\n",
        "composite_scores = sorted(composite_scores, key=lambda x: x[1], reverse=True)\n",
        "\n",
        "for index, composite_score in composite_scores:\n",
        "    image_link = df.loc[index, 'image_links']\n",
        "    product_review = df.loc[index, 'Review text']\n",
        "    product_id = df.loc[index, 'Product ID.']\n",
        "    print(\"Product ID:\", product_id)\n",
        "    print(\"Image link:\", image_link)\n",
        "    print(\"Product review:\", product_review)\n",
        "    print(\"Composite similarity score:\", composite_score)\n",
        "    print()\n"
      ]
    },
    {
      "cell_type": "markdown",
      "metadata": {
        "id": "yOJtsebYsiIb"
      },
      "source": [
        "#Part 5.b\n",
        "\n",
        "Quantitatively, image retrieval using features gives better results because all the images are very similar. The VGG16 model extracts high-level features from images, which encode rich information about their visual content. Since the images are similar, the extracted features likely capture the key visual aspects that distinguish them. As a result, cosine similarity scores calculated from these features can effectively measure the similarity between images, leading to accurate retrieval results.\n",
        "\n",
        "Qualitatively, reviews give better results since they include more detail about the images. Reviews provide textual descriptions that encapsulate various aspects of the images such as composition, context, emotions evoked, and specific details not captured solely by visual features. By computing cosine similarity scores between the TF-IDF representations of reviews, the semantic similarity between textual descriptions can be effectively captured. This allows for a more nuanced understanding of the images, considering the additional information provided by the reviews.\n",
        "\n",
        "In summary, while image retrieval based on feature similarity performs better quantitatively due to the similarity of images, qualitatively, reviews provide richer context and detail, enhancing the overall similarity assessment.\n",
        "\n",
        "#Part 5.c\n",
        "\n",
        "##Challenges:\n",
        "Feature Representation: The choice of features used for calculating cosine similarity greatly impacts retrieval performance. Ensuring that the features capture relevant characteristics of the images is crucial. It may require experimentation with different feature extraction techniques to find the most suitable ones.\n",
        "\n",
        "Dimensionality: High-dimensional feature vectors can lead to increased computational complexity and memory usage, especially when dealing with large datasets.\n",
        "\n",
        "\n",
        "\n",
        "##Improvements:\n",
        "\n",
        "Fine-tuning Feature Extraction: Continuously fine-tuning the feature extraction process to better capture relevant image characteristics can lead to improved retrieval performance. This may involve exploring advanced feature extraction techniques or leveraging pre-trained deep learning models.\n",
        "\n",
        "Ensemble Methods: Combining multiple feature extraction methods or similarity metrics through ensemble methods can potentially enhance retrieval accuracy. Ensemble techniques such as bagging or boosting can be applied to achieve better overall performance.\n",
        "\n"
      ]
    },
    {
      "cell_type": "code",
      "execution_count": null,
      "metadata": {
        "id": "19AmKShtsgb0"
      },
      "outputs": [],
      "source": []
    }
  ],
  "metadata": {
    "colab": {
      "provenance": []
    },
    "kernelspec": {
      "display_name": "Python 3",
      "name": "python3"
    },
    "language_info": {
      "name": "python",
      "version": "3.11.7"
    }
  },
  "nbformat": 4,
  "nbformat_minor": 0
}
